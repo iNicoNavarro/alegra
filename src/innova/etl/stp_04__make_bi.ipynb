{
 "cells": [
  {
   "cell_type": "code",
   "execution_count": 1,
   "id": "19cacd04",
   "metadata": {},
   "outputs": [],
   "source": [
    "%load_ext autoreload\n",
    "%autoreload 2"
   ]
  },
  {
   "cell_type": "code",
   "execution_count": null,
   "id": "d5084df8",
   "metadata": {},
   "outputs": [],
   "source": [
    "from utils.trackers import setup_logging, log_and_register, save_metadata\n",
    "from datetime import datetime\n",
    "from pyspark.sql import SparkSession\n",
    "from src.innova.config.config import etl_config\n",
    "from utils.connections.sql_server_connector import SQLServerConnector\n",
    "\n",
    "\n",
    "spark = SparkSession.builder.getOrCreate()"
   ]
  },
  {
   "cell_type": "code",
   "execution_count": 7,
   "id": "8db53ac8",
   "metadata": {},
   "outputs": [],
   "source": [
    "BUSINESS: str = \"innova\"\n",
    "LAYER_DWH: str = \"silver_prod\"\n",
    "LAYER_BI: str = \"gold_prod\"\n",
    "BI_SCHEMA: str = \"bi_innova\"\n",
    "\n",
    "LOGS_PATH: str = etl_config[\"paths\"][\"logs_path\"]      "
   ]
  },
  {
   "cell_type": "code",
   "execution_count": 8,
   "id": "0445d9c7",
   "metadata": {},
   "outputs": [],
   "source": [
    "logger = setup_logging(log_path=LOGS_PATH)"
   ]
  }
 ],
 "metadata": {
  "kernelspec": {
   "display_name": "PySpark",
   "language": "python",
   "name": "pyspark"
  },
  "language_info": {
   "codemirror_mode": {
    "name": "ipython",
    "version": 3
   },
   "file_extension": ".py",
   "mimetype": "text/x-python",
   "name": "python",
   "nbconvert_exporter": "python",
   "pygments_lexer": "ipython3",
   "version": "3.11.6"
  }
 },
 "nbformat": 4,
 "nbformat_minor": 5
}
