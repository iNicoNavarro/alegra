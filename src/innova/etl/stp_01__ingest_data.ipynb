{
 "cells": [
  {
   "cell_type": "code",
   "execution_count": 1,
   "id": "56f08110",
   "metadata": {},
   "outputs": [],
   "source": [
    "%load_ext autoreload\n",
    "%autoreload 2"
   ]
  },
  {
   "cell_type": "code",
   "execution_count": 2,
   "id": "a59d0b06",
   "metadata": {},
   "outputs": [],
   "source": [
    "from utils.trackers import setup_logging, log_and_register, save_metadata\n",
    "from datetime import datetime\n",
    "from pyspark.sql import SparkSession\n",
    "from src.innova.config.config import etl_config\n",
    "\n",
    "spark = SparkSession.builder.getOrCreate()"
   ]
  },
  {
   "cell_type": "code",
   "execution_count": 4,
   "id": "74450b41",
   "metadata": {},
   "outputs": [
    {
     "data": {
      "text/plain": [
       "'/alegra/data_lake/bronze/innova'"
      ]
     },
     "execution_count": 4,
     "metadata": {},
     "output_type": "execute_result"
    }
   ],
   "source": [
    "BUSINESS: str = \"innova\"\n",
    "LOAD_TS = datetime.now().strftime(\"%Y%m%d%H%M%S\")\n",
    "\n",
    "LAYER: str = etl_config[\"etl\"][\"layer_brz\"]\n",
    "STEP_NAME: str = etl_config[\"etl\"][\"steps\"][0][\"name\"]\n",
    "BASE_PATH: str = etl_config[\"paths\"][\"base_path\"]\n",
    "LOGS_PATH: str = etl_config[\"paths\"][\"logs_path\"]      \n",
    "SOURCE_PATH: str = etl_config[\"paths\"][\"source_path\"]  \n",
    "METADATA_PATH: str = etl_config[\"paths\"][\"metadata_path\"]\n",
    "\n",
    "BASE_BRONZE: str = f\"{BASE_PATH}/{LAYER}/{BUSINESS}\"\n",
    "\n",
    "logger = setup_logging(log_path=LOGS_PATH)\n",
    "BASE_BRONZE"
   ]
  },
  {
   "cell_type": "code",
   "execution_count": 5,
   "id": "ecca6558",
   "metadata": {},
   "outputs": [],
   "source": [
    "metadata = {}\n",
    "for table_key, table_conf in etl_config[\"tables\"].items():\n",
    "    source_name = table_conf[\"source\"]   \n",
    "\n",
    "    input_file = f\"{SOURCE_PATH}/{source_name}.csv\"\n",
    "    df = spark.read.option(\"header\", True).csv(input_file)\n",
    "\n",
    "    output_path = f\"{BASE_BRONZE}/{source_name}/load_date={LOAD_TS}\"\n",
    "        \n",
    "    metadata = log_and_register(\n",
    "        table=source_name,\n",
    "        df=df,\n",
    "        output_path=output_path,\n",
    "        load_date=LOAD_TS,\n",
    "        metadata=metadata,\n",
    "        logger=logger\n",
    "    )\n",
    "\n",
    "save_metadata(\n",
    "    step_name=STEP_NAME,\n",
    "    metadata=metadata,\n",
    "    metadata_path=METADATA_PATH,\n",
    "    logger=logger\n",
    ")"
   ]
  }
 ],
 "metadata": {
  "kernelspec": {
   "display_name": "PySpark",
   "language": "python",
   "name": "pyspark"
  }
 },
 "nbformat": 4,
 "nbformat_minor": 5
}
