{
 "cells": [
  {
   "cell_type": "code",
   "execution_count": 25,
   "id": "fe53d4db",
   "metadata": {},
   "outputs": [
    {
     "name": "stdout",
     "output_type": "stream",
     "text": [
      "The autoreload extension is already loaded. To reload it, use:\n",
      "  %reload_ext autoreload\n"
     ]
    }
   ],
   "source": [
    "%load_ext autoreload\n",
    "%autoreload 2"
   ]
  },
  {
   "cell_type": "code",
   "execution_count": 26,
   "id": "874e8f98",
   "metadata": {},
   "outputs": [],
   "source": [
    "import json\n",
    "import logging\n",
    "from pathlib import Path\n",
    "from datetime import datetime\n",
    "\n",
    "from pyspark.sql import SparkSession, DataFrame, functions as F\n",
    "\n",
    "from src.innova.config.config import etl_config\n",
    "from utils.trackers import setup_logging, save_metadata\n",
    "from utils.spark_helpers import (\n",
    "    load_parquet, save_parquet, load_metadata, save_metadata\n",
    ")\n",
    "from utils.transform_schema import apply_strict_schema\n",
    "from utils.connections.sql_server_connector import SQLServerConnector\n",
    "from src.innova.utils.loader import DataWarehouseLoader          \n",
    "\n"
   ]
  },
  {
   "cell_type": "code",
   "execution_count": 27,
   "id": "e82b715b",
   "metadata": {},
   "outputs": [],
   "source": [
    "spark = SparkSession.builder.getOrCreate()"
   ]
  },
  {
   "cell_type": "code",
   "execution_count": 28,
   "id": "915d8657",
   "metadata": {},
   "outputs": [],
   "source": [
    "BUSINESS: str = \"innova\"\n",
    "LOAD_TS = datetime.now().strftime(\"%Y%m%d%H%M%S\")\n",
    "DWH_SCHEMA = \"dwh_innova\"\n",
    "\n",
    "LAYER: str = etl_config[\"etl\"][\"layer_slv\"]\n",
    "STEP_NAME_2: str = etl_config[\"etl\"][\"steps\"][1][\"name\"]\n",
    "STEP_NAME_3: str = etl_config[\"etl\"][\"steps\"][2][\"name\"]\n",
    "BASE_PATH: str = etl_config[\"paths\"][\"base_path\"]      \n",
    "LOGS_PATH: str = etl_config[\"paths\"][\"logs_path\"]    \n",
    "METADATA_PATH: str = etl_config[\"paths\"][\"metadata_path\"] \n",
    "\n",
    "BASE_SILVER: Path = f\"{BASE_PATH}/{LAYER}/{BUSINESS}\"\n",
    "\n",
    "logger = setup_logging(LOGS_PATH)\n",
    "logger.info(f\"starting {STEP_NAME_2}\")"
   ]
  },
  {
   "cell_type": "code",
   "execution_count": 30,
   "id": "3f9b67af",
   "metadata": {},
   "outputs": [],
   "source": [
    "metadata_file = Path(f\"{METADATA_PATH}/{STEP_NAME_2}.json\")\n",
    "metadata_step_02 = load_metadata(metadata_path=metadata_file)"
   ]
  },
  {
   "cell_type": "code",
   "execution_count": 35,
   "id": "2be28aad",
   "metadata": {},
   "outputs": [],
   "source": [
    "with SQLServerConnector(spark, logger=logger) as sql_conn:\n",
    "    loader = DataWarehouseLoader(\n",
    "        spark = spark,\n",
    "        sql_conn    = sql_conn,\n",
    "        metadata    = metadata_step_02,\n",
    "        dwh_cfg     = etl_config[\"dwh\"],       \n",
    "        logger      = logger,\n",
    "    )\n",
    "    loader.run()\n",
    "\n",
    "spark.stop()"
   ]
  }
 ],
 "metadata": {
  "kernelspec": {
   "display_name": "PySpark",
   "language": "python",
   "name": "pyspark"
  },
  "language_info": {
   "codemirror_mode": {
    "name": "ipython",
    "version": 3
   },
   "file_extension": ".py",
   "mimetype": "text/x-python",
   "name": "python",
   "nbconvert_exporter": "python",
   "pygments_lexer": "ipython3",
   "version": "3.11.6"
  }
 },
 "nbformat": 4,
 "nbformat_minor": 5
}
